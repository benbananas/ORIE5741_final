{
 "cells": [
  {
   "cell_type": "code",
   "execution_count": 1,
   "metadata": {},
   "outputs": [],
   "source": [
    "import numpy as np\n",
    "import seaborn as sns\n",
    "import pandas as pd\n",
    "import statsmodels.api as sm\n",
    "import matplotlib.pyplot as plt\n",
    "\n",
    "from xgboost import XGBClassifier\n",
    "from sklearn.model_selection import train_test_split\n",
    "from sklearn.metrics import accuracy_score\n",
    "from sklearn.tree import DecisionTreeClassifier\n",
    "from sklearn import tree\n",
    "from xgboost import plot_importance\n",
    "\n",
    "from sklearn.metrics import f1_score\n",
    "from sklearn.model_selection import GridSearchCV\n",
    "from sklearn.metrics import confusion_matrix\n",
    "from sklearn.metrics import classification_report"
   ]
  },
  {
   "cell_type": "code",
   "execution_count": 2,
   "metadata": {},
   "outputs": [],
   "source": [
    "df = pd.read_csv(\"cleaned_data.csv\", index_col=0)\n",
    "\n",
    "df = df[df[\"CODE_GENDER\"] != \"XNA\"] # filter out gender = XNA bc only 4 entries\n",
    "categorical = [\"NAME_CONTRACT_TYPE\", \"CODE_GENDER\", \"FLAG_OWN_CAR\", \"FLAG_OWN_REALTY\"] # change categorical variables to 0, 1 encoding\n",
    "for col in categorical:\n",
    "  fst = df[col].iloc[0]\n",
    "  df[col] = (df[col] == fst).astype(float)\n",
    "\n",
    "df = df.drop(columns=[\"OWN_CAR_AGE\"]) # drop this because we have the new categorical variables for this info"
   ]
  },
  {
   "cell_type": "code",
   "execution_count": 3,
   "metadata": {},
   "outputs": [
    {
     "data": {
      "text/plain": [
       "0         0.161787\n",
       "1         0.466757\n",
       "2         0.642739\n",
       "3         0.650442\n",
       "4         0.322738\n",
       "            ...   \n",
       "307506    0.413601\n",
       "307507    0.115992\n",
       "307508    0.499536\n",
       "307509    0.587593\n",
       "307510    0.518984\n",
       "Name: avg_ex_score, Length: 307507, dtype: float64"
      ]
     },
     "execution_count": 3,
     "metadata": {},
     "output_type": "execute_result"
    }
   ],
   "source": [
    "# take average of external scores, only 172 users have no scores\n",
    "df[\"avg_ex_score\"] = df[[\"EXT_SOURCE_1\", \"EXT_SOURCE_2\", \"EXT_SOURCE_3\"]].mean(axis=1)\n",
    "df[\"avg_ex_score\"]"
   ]
  },
  {
   "cell_type": "code",
   "execution_count": 4,
   "metadata": {},
   "outputs": [],
   "source": [
    "df = df.drop(columns=[\"EXT_SOURCE_1\", \"EXT_SOURCE_2\", \"EXT_SOURCE_3\"])"
   ]
  },
  {
   "cell_type": "code",
   "execution_count": 5,
   "metadata": {},
   "outputs": [],
   "source": [
    "# drop entries with a nan\n",
    "df = df.dropna(axis=0)"
   ]
  },
  {
   "cell_type": "code",
   "execution_count": 6,
   "metadata": {},
   "outputs": [
    {
     "name": "stdout",
     "output_type": "stream",
     "text": [
      "FLAG_MOBIL [1]\n",
      "Unknown [0]\n"
     ]
    }
   ],
   "source": [
    "# figure out which columns only have one value\n",
    "for i in df.columns:\n",
    "    if len(pd.unique(df[i])) <= 1:\n",
    "        print(i, pd.unique(df[i]))"
   ]
  },
  {
   "cell_type": "code",
   "execution_count": 7,
   "metadata": {},
   "outputs": [],
   "source": [
    "df = df.drop(columns=[\"FLAG_MOBIL\", \"Unknown\"]) #these columns now only have one value so they are useless for predicting --> remove them"
   ]
  },
  {
   "cell_type": "code",
   "execution_count": 8,
   "metadata": {},
   "outputs": [
    {
     "name": "stderr",
     "output_type": "stream",
     "text": [
      "c:\\ProgramData\\Anaconda3\\lib\\site-packages\\statsmodels\\discrete\\discrete_model.py:1810: RuntimeWarning: overflow encountered in exp\n",
      "  return 1/(1+np.exp(-X))\n",
      "c:\\ProgramData\\Anaconda3\\lib\\site-packages\\statsmodels\\discrete\\discrete_model.py:1863: RuntimeWarning: divide by zero encountered in log\n",
      "  return np.sum(np.log(self.cdf(q*np.dot(X,params))))\n"
     ]
    },
    {
     "name": "stdout",
     "output_type": "stream",
     "text": [
      "Warning: Maximum number of iterations has been exceeded.\n",
      "         Current function value: inf\n",
      "         Iterations: 35\n"
     ]
    },
    {
     "ename": "LinAlgError",
     "evalue": "Singular matrix",
     "output_type": "error",
     "traceback": [
      "\u001b[1;31m---------------------------------------------------------------------------\u001b[0m",
      "\u001b[1;31mLinAlgError\u001b[0m                               Traceback (most recent call last)",
      "\u001b[1;32m<ipython-input-8-6d6b844cf4ea>\u001b[0m in \u001b[0;36m<module>\u001b[1;34m\u001b[0m\n\u001b[0;32m      3\u001b[0m \u001b[0mytrain\u001b[0m \u001b[1;33m=\u001b[0m \u001b[0mdf\u001b[0m\u001b[1;33m[\u001b[0m\u001b[1;34m\"TARGET\"\u001b[0m\u001b[1;33m]\u001b[0m\u001b[1;33m\u001b[0m\u001b[1;33m\u001b[0m\u001b[0m\n\u001b[0;32m      4\u001b[0m \u001b[1;33m\u001b[0m\u001b[0m\n\u001b[1;32m----> 5\u001b[1;33m \u001b[0mlog_reg\u001b[0m \u001b[1;33m=\u001b[0m \u001b[0msm\u001b[0m\u001b[1;33m.\u001b[0m\u001b[0mLogit\u001b[0m\u001b[1;33m(\u001b[0m\u001b[0mytrain\u001b[0m\u001b[1;33m,\u001b[0m \u001b[0mXtrain\u001b[0m\u001b[1;33m.\u001b[0m\u001b[0mastype\u001b[0m\u001b[1;33m(\u001b[0m\u001b[0mfloat\u001b[0m\u001b[1;33m)\u001b[0m\u001b[1;33m)\u001b[0m\u001b[1;33m.\u001b[0m\u001b[0mfit\u001b[0m\u001b[1;33m(\u001b[0m\u001b[1;33m)\u001b[0m\u001b[1;33m\u001b[0m\u001b[1;33m\u001b[0m\u001b[0m\n\u001b[0m\u001b[0;32m      6\u001b[0m \u001b[1;33m\u001b[0m\u001b[0m\n\u001b[0;32m      7\u001b[0m \u001b[0mprint\u001b[0m\u001b[1;33m(\u001b[0m\u001b[0mlog_reg\u001b[0m\u001b[1;33m.\u001b[0m\u001b[0msummary\u001b[0m\u001b[1;33m(\u001b[0m\u001b[1;33m)\u001b[0m\u001b[1;33m)\u001b[0m\u001b[1;33m\u001b[0m\u001b[1;33m\u001b[0m\u001b[0m\n",
      "\u001b[1;32mc:\\ProgramData\\Anaconda3\\lib\\site-packages\\statsmodels\\discrete\\discrete_model.py\u001b[0m in \u001b[0;36mfit\u001b[1;34m(self, start_params, method, maxiter, full_output, disp, callback, **kwargs)\u001b[0m\n\u001b[0;32m   1972\u001b[0m     def fit(self, start_params=None, method='newton', maxiter=35,\n\u001b[0;32m   1973\u001b[0m             full_output=1, disp=1, callback=None, **kwargs):\n\u001b[1;32m-> 1974\u001b[1;33m         bnryfit = super().fit(start_params=start_params,\n\u001b[0m\u001b[0;32m   1975\u001b[0m                               \u001b[0mmethod\u001b[0m\u001b[1;33m=\u001b[0m\u001b[0mmethod\u001b[0m\u001b[1;33m,\u001b[0m\u001b[1;33m\u001b[0m\u001b[1;33m\u001b[0m\u001b[0m\n\u001b[0;32m   1976\u001b[0m                               \u001b[0mmaxiter\u001b[0m\u001b[1;33m=\u001b[0m\u001b[0mmaxiter\u001b[0m\u001b[1;33m,\u001b[0m\u001b[1;33m\u001b[0m\u001b[1;33m\u001b[0m\u001b[0m\n",
      "\u001b[1;32mc:\\ProgramData\\Anaconda3\\lib\\site-packages\\statsmodels\\discrete\\discrete_model.py\u001b[0m in \u001b[0;36mfit\u001b[1;34m(self, start_params, method, maxiter, full_output, disp, callback, **kwargs)\u001b[0m\n\u001b[0;32m    225\u001b[0m             \u001b[1;32mpass\u001b[0m  \u001b[1;31m# TODO: make a function factory to have multiple call-backs\u001b[0m\u001b[1;33m\u001b[0m\u001b[1;33m\u001b[0m\u001b[0m\n\u001b[0;32m    226\u001b[0m \u001b[1;33m\u001b[0m\u001b[0m\n\u001b[1;32m--> 227\u001b[1;33m         mlefit = super().fit(start_params=start_params,\n\u001b[0m\u001b[0;32m    228\u001b[0m                              \u001b[0mmethod\u001b[0m\u001b[1;33m=\u001b[0m\u001b[0mmethod\u001b[0m\u001b[1;33m,\u001b[0m\u001b[1;33m\u001b[0m\u001b[1;33m\u001b[0m\u001b[0m\n\u001b[0;32m    229\u001b[0m                              \u001b[0mmaxiter\u001b[0m\u001b[1;33m=\u001b[0m\u001b[0mmaxiter\u001b[0m\u001b[1;33m,\u001b[0m\u001b[1;33m\u001b[0m\u001b[1;33m\u001b[0m\u001b[0m\n",
      "\u001b[1;32mc:\\ProgramData\\Anaconda3\\lib\\site-packages\\statsmodels\\base\\model.py\u001b[0m in \u001b[0;36mfit\u001b[1;34m(self, start_params, method, maxiter, full_output, disp, fargs, callback, retall, skip_hessian, **kwargs)\u001b[0m\n\u001b[0;32m    532\u001b[0m             \u001b[0mHinv\u001b[0m \u001b[1;33m=\u001b[0m \u001b[0mcov_params_func\u001b[0m\u001b[1;33m(\u001b[0m\u001b[0mself\u001b[0m\u001b[1;33m,\u001b[0m \u001b[0mxopt\u001b[0m\u001b[1;33m,\u001b[0m \u001b[0mretvals\u001b[0m\u001b[1;33m)\u001b[0m\u001b[1;33m\u001b[0m\u001b[1;33m\u001b[0m\u001b[0m\n\u001b[0;32m    533\u001b[0m         \u001b[1;32melif\u001b[0m \u001b[0mmethod\u001b[0m \u001b[1;33m==\u001b[0m \u001b[1;34m'newton'\u001b[0m \u001b[1;32mand\u001b[0m \u001b[0mfull_output\u001b[0m\u001b[1;33m:\u001b[0m\u001b[1;33m\u001b[0m\u001b[1;33m\u001b[0m\u001b[0m\n\u001b[1;32m--> 534\u001b[1;33m             \u001b[0mHinv\u001b[0m \u001b[1;33m=\u001b[0m \u001b[0mnp\u001b[0m\u001b[1;33m.\u001b[0m\u001b[0mlinalg\u001b[0m\u001b[1;33m.\u001b[0m\u001b[0minv\u001b[0m\u001b[1;33m(\u001b[0m\u001b[1;33m-\u001b[0m\u001b[0mretvals\u001b[0m\u001b[1;33m[\u001b[0m\u001b[1;34m'Hessian'\u001b[0m\u001b[1;33m]\u001b[0m\u001b[1;33m)\u001b[0m \u001b[1;33m/\u001b[0m \u001b[0mnobs\u001b[0m\u001b[1;33m\u001b[0m\u001b[1;33m\u001b[0m\u001b[0m\n\u001b[0m\u001b[0;32m    535\u001b[0m         \u001b[1;32melif\u001b[0m \u001b[1;32mnot\u001b[0m \u001b[0mskip_hessian\u001b[0m\u001b[1;33m:\u001b[0m\u001b[1;33m\u001b[0m\u001b[1;33m\u001b[0m\u001b[0m\n\u001b[0;32m    536\u001b[0m             \u001b[0mH\u001b[0m \u001b[1;33m=\u001b[0m \u001b[1;33m-\u001b[0m\u001b[1;36m1\u001b[0m \u001b[1;33m*\u001b[0m \u001b[0mself\u001b[0m\u001b[1;33m.\u001b[0m\u001b[0mhessian\u001b[0m\u001b[1;33m(\u001b[0m\u001b[0mxopt\u001b[0m\u001b[1;33m)\u001b[0m\u001b[1;33m\u001b[0m\u001b[1;33m\u001b[0m\u001b[0m\n",
      "\u001b[1;32m<__array_function__ internals>\u001b[0m in \u001b[0;36minv\u001b[1;34m(*args, **kwargs)\u001b[0m\n",
      "\u001b[1;32mc:\\ProgramData\\Anaconda3\\lib\\site-packages\\numpy\\linalg\\linalg.py\u001b[0m in \u001b[0;36minv\u001b[1;34m(a)\u001b[0m\n\u001b[0;32m    543\u001b[0m     \u001b[0msignature\u001b[0m \u001b[1;33m=\u001b[0m \u001b[1;34m'D->D'\u001b[0m \u001b[1;32mif\u001b[0m \u001b[0misComplexType\u001b[0m\u001b[1;33m(\u001b[0m\u001b[0mt\u001b[0m\u001b[1;33m)\u001b[0m \u001b[1;32melse\u001b[0m \u001b[1;34m'd->d'\u001b[0m\u001b[1;33m\u001b[0m\u001b[1;33m\u001b[0m\u001b[0m\n\u001b[0;32m    544\u001b[0m     \u001b[0mextobj\u001b[0m \u001b[1;33m=\u001b[0m \u001b[0mget_linalg_error_extobj\u001b[0m\u001b[1;33m(\u001b[0m\u001b[0m_raise_linalgerror_singular\u001b[0m\u001b[1;33m)\u001b[0m\u001b[1;33m\u001b[0m\u001b[1;33m\u001b[0m\u001b[0m\n\u001b[1;32m--> 545\u001b[1;33m     \u001b[0mainv\u001b[0m \u001b[1;33m=\u001b[0m \u001b[0m_umath_linalg\u001b[0m\u001b[1;33m.\u001b[0m\u001b[0minv\u001b[0m\u001b[1;33m(\u001b[0m\u001b[0ma\u001b[0m\u001b[1;33m,\u001b[0m \u001b[0msignature\u001b[0m\u001b[1;33m=\u001b[0m\u001b[0msignature\u001b[0m\u001b[1;33m,\u001b[0m \u001b[0mextobj\u001b[0m\u001b[1;33m=\u001b[0m\u001b[0mextobj\u001b[0m\u001b[1;33m)\u001b[0m\u001b[1;33m\u001b[0m\u001b[1;33m\u001b[0m\u001b[0m\n\u001b[0m\u001b[0;32m    546\u001b[0m     \u001b[1;32mreturn\u001b[0m \u001b[0mwrap\u001b[0m\u001b[1;33m(\u001b[0m\u001b[0mainv\u001b[0m\u001b[1;33m.\u001b[0m\u001b[0mastype\u001b[0m\u001b[1;33m(\u001b[0m\u001b[0mresult_t\u001b[0m\u001b[1;33m,\u001b[0m \u001b[0mcopy\u001b[0m\u001b[1;33m=\u001b[0m\u001b[1;32mFalse\u001b[0m\u001b[1;33m)\u001b[0m\u001b[1;33m)\u001b[0m\u001b[1;33m\u001b[0m\u001b[1;33m\u001b[0m\u001b[0m\n\u001b[0;32m    547\u001b[0m \u001b[1;33m\u001b[0m\u001b[0m\n",
      "\u001b[1;32mc:\\ProgramData\\Anaconda3\\lib\\site-packages\\numpy\\linalg\\linalg.py\u001b[0m in \u001b[0;36m_raise_linalgerror_singular\u001b[1;34m(err, flag)\u001b[0m\n\u001b[0;32m     86\u001b[0m \u001b[1;33m\u001b[0m\u001b[0m\n\u001b[0;32m     87\u001b[0m \u001b[1;32mdef\u001b[0m \u001b[0m_raise_linalgerror_singular\u001b[0m\u001b[1;33m(\u001b[0m\u001b[0merr\u001b[0m\u001b[1;33m,\u001b[0m \u001b[0mflag\u001b[0m\u001b[1;33m)\u001b[0m\u001b[1;33m:\u001b[0m\u001b[1;33m\u001b[0m\u001b[1;33m\u001b[0m\u001b[0m\n\u001b[1;32m---> 88\u001b[1;33m     \u001b[1;32mraise\u001b[0m \u001b[0mLinAlgError\u001b[0m\u001b[1;33m(\u001b[0m\u001b[1;34m\"Singular matrix\"\u001b[0m\u001b[1;33m)\u001b[0m\u001b[1;33m\u001b[0m\u001b[1;33m\u001b[0m\u001b[0m\n\u001b[0m\u001b[0;32m     89\u001b[0m \u001b[1;33m\u001b[0m\u001b[0m\n\u001b[0;32m     90\u001b[0m \u001b[1;32mdef\u001b[0m \u001b[0m_raise_linalgerror_nonposdef\u001b[0m\u001b[1;33m(\u001b[0m\u001b[0merr\u001b[0m\u001b[1;33m,\u001b[0m \u001b[0mflag\u001b[0m\u001b[1;33m)\u001b[0m\u001b[1;33m:\u001b[0m\u001b[1;33m\u001b[0m\u001b[1;33m\u001b[0m\u001b[0m\n",
      "\u001b[1;31mLinAlgError\u001b[0m: Singular matrix"
     ]
    }
   ],
   "source": [
    "# logistic regression\n",
    "Xtrain = df.drop(columns=[\"TARGET\", \"SK_ID_CURR\"], axis=1)\n",
    "ytrain = df[\"TARGET\"]\n",
    "\n",
    "log_reg = sm.Logit(ytrain, Xtrain.astype(float)).fit()\n",
    "\n",
    "print(log_reg.summary())"
   ]
  },
  {
   "cell_type": "code",
   "execution_count": 9,
   "metadata": {},
   "outputs": [
    {
     "name": "stdout",
     "output_type": "stream",
     "text": [
      "                            OLS Regression Results                            \n",
      "==============================================================================\n",
      "Dep. Variable:                 TARGET   R-squared:                       0.062\n",
      "Model:                            OLS   Adj. R-squared:                  0.061\n",
      "Method:                 Least Squares   F-statistic:                     115.1\n",
      "Date:                Fri, 28 Apr 2023   Prob (F-statistic):               0.00\n",
      "Time:                        15:44:45   Log-Likelihood:                -17743.\n",
      "No. Observations:              264806   AIC:                         3.579e+04\n",
      "Df Residuals:                  264653   BIC:                         3.740e+04\n",
      "Df Model:                         152                                         \n",
      "Covariance Type:            nonrobust                                         \n",
      "=================================================================================================\n",
      "                                    coef    std err          t      P>|t|      [0.025      0.975]\n",
      "-------------------------------------------------------------------------------------------------\n",
      "NAME_CONTRACT_TYPE                0.0158      0.002      8.250      0.000       0.012       0.020\n",
      "CODE_GENDER                       0.0177      0.001     13.144      0.000       0.015       0.020\n",
      "FLAG_OWN_CAR                      0.1017      0.116      0.877      0.380      -0.125       0.329\n",
      "FLAG_OWN_REALTY                   0.0033      0.001      2.863      0.004       0.001       0.006\n",
      "CNT_CHILDREN                     -0.0304      0.016     -1.843      0.065      -0.063       0.002\n",
      "AMT_INCOME_TOTAL               6.462e-09   2.08e-09      3.104      0.002    2.38e-09    1.05e-08\n",
      "AMT_CREDIT                     1.488e-07   8.09e-09     18.395      0.000    1.33e-07    1.65e-07\n",
      "AMT_ANNUITY                    6.709e-07   5.82e-08     11.527      0.000    5.57e-07    7.85e-07\n",
      "AMT_GOODS_PRICE                -1.78e-07   8.92e-09    -19.963      0.000   -1.96e-07   -1.61e-07\n",
      "REGION_POPULATION_RELATIVE        0.1550      0.044      3.526      0.000       0.069       0.241\n",
      "DAYS_BIRTH                    -5.359e-07   1.88e-07     -2.846      0.004   -9.05e-07   -1.67e-07\n",
      "DAYS_EMPLOYED                  3.148e-06   2.66e-07     11.846      0.000    2.63e-06    3.67e-06\n",
      "DAYS_REGISTRATION              5.112e-07   1.54e-07      3.312      0.001    2.09e-07    8.14e-07\n",
      "DAYS_ID_PUBLISH                3.159e-06   3.59e-07      8.789      0.000    2.45e-06    3.86e-06\n",
      "FLAG_EMP_PHONE                   -0.0752      0.088     -0.860      0.390      -0.247       0.096\n",
      "FLAG_WORK_PHONE                   0.0115      0.001      8.118      0.000       0.009       0.014\n",
      "FLAG_CONT_MOBILE                 -0.0118      0.011     -1.034      0.301      -0.034       0.011\n",
      "FLAG_PHONE                       -0.0032      0.001     -2.658      0.008      -0.006      -0.001\n",
      "FLAG_EMAIL                       -0.0024      0.002     -1.089      0.276      -0.007       0.002\n",
      "CNT_FAM_MEMBERS                   0.0312      0.016      1.893      0.058      -0.001       0.063\n",
      "REGION_RATING_CLIENT             -0.0131      0.003     -3.990      0.000      -0.019      -0.007\n",
      "REGION_RATING_CLIENT_W_CITY       0.0214      0.003      6.513      0.000       0.015       0.028\n",
      "HOUR_APPR_PROCESS_START          6.6e-05      0.000      0.400      0.689      -0.000       0.000\n",
      "REG_REGION_NOT_LIVE_REGION       -0.0207      0.007     -3.166      0.002      -0.034      -0.008\n",
      "REG_REGION_NOT_WORK_REGION        0.0061      0.007      0.865      0.387      -0.008       0.020\n",
      "LIVE_REGION_NOT_WORK_REGION      -0.0110      0.007     -1.568      0.117      -0.025       0.003\n",
      "REG_CITY_NOT_LIVE_CITY            0.0179      0.003      5.994      0.000       0.012       0.024\n",
      "REG_CITY_NOT_WORK_CITY           -0.0018      0.003     -0.541      0.589      -0.008       0.005\n",
      "LIVE_CITY_NOT_WORK_CITY           0.0027      0.003      0.810      0.418      -0.004       0.009\n",
      "OBS_30_CNT_SOCIAL_CIRCLE          0.0022      0.004      0.578      0.564      -0.005       0.010\n",
      "DEF_30_CNT_SOCIAL_CIRCLE          0.0095      0.002      4.180      0.000       0.005       0.014\n",
      "OBS_60_CNT_SOCIAL_CIRCLE         -0.0023      0.004     -0.591      0.555      -0.010       0.005\n",
      "DEF_60_CNT_SOCIAL_CIRCLE          0.0034      0.003      1.255      0.209      -0.002       0.009\n",
      "DAYS_LAST_PHONE_CHANGE         2.748e-06    6.3e-07      4.361      0.000    1.51e-06    3.98e-06\n",
      "AMT_REQ_CREDIT_BUREAU_HOUR       -0.0009      0.006     -0.145      0.885      -0.013       0.011\n",
      "AMT_REQ_CREDIT_BUREAU_DAY         0.0069      0.005      1.436      0.151      -0.003       0.016\n",
      "AMT_REQ_CREDIT_BUREAU_WEEK       -0.0034      0.003     -1.337      0.181      -0.008       0.002\n",
      "AMT_REQ_CREDIT_BUREAU_MON        -0.0006      0.001     -1.048      0.295      -0.002       0.001\n",
      "AMT_REQ_CREDIT_BUREAU_QRT        -0.0018      0.001     -2.768      0.006      -0.003      -0.001\n",
      "AMT_REQ_CREDIT_BUREAU_YEAR        0.0009      0.000      3.330      0.001       0.000       0.001\n",
      "car_owned_less_10                 0.0218      0.023      0.960      0.337      -0.023       0.066\n",
      "car_owned_10_to_20                0.0304      0.023      1.337      0.181      -0.014       0.075\n",
      "car_owned_20_to_30                0.0370      0.023      1.621      0.105      -0.008       0.082\n",
      "car_owned_30                      0.0367      0.023      1.601      0.109      -0.008       0.082\n",
      "no_car                           -0.0560      0.095     -0.591      0.554      -0.242       0.130\n",
      "Children                          0.0291      0.010      2.975      0.003       0.010       0.048\n",
      "Family                            0.0279      0.009      3.261      0.001       0.011       0.045\n",
      "Group of people                   0.0108      0.019      0.562      0.574      -0.027       0.049\n",
      "Other_A                           0.0264      0.013      2.051      0.040       0.001       0.052\n",
      "Other_B                           0.0320      0.011      2.955      0.003       0.011       0.053\n",
      "Spouse, partner                   0.0262      0.009      2.959      0.003       0.009       0.044\n",
      "Unaccompanied                     0.0296      0.008      3.497      0.000       0.013       0.046\n",
      "Businessman                       0.0308      0.123      0.250      0.803      -0.211       0.273\n",
      "Commercial associate              0.0360      0.047      0.759      0.448      -0.057       0.129\n",
      "Maternity leave                   0.0164      0.231      0.071      0.944      -0.436       0.469\n",
      "Pensioner                        -0.0130      0.081     -0.160      0.873      -0.173       0.147\n",
      "State servant                     0.0387      0.048      0.815      0.415      -0.054       0.132\n",
      "Student                          -0.0336      0.075     -0.447      0.655      -0.181       0.114\n",
      "Unemployed                       -0.0493      0.179     -0.275      0.783      -0.401       0.302\n",
      "Working                           0.0439      0.047      0.924      0.355      -0.049       0.137\n",
      "Academic degree                  -0.0219      0.019     -1.142      0.253      -0.059       0.016\n",
      "Higher education                  0.0149      0.009      1.724      0.085      -0.002       0.032\n",
      "Incomplete higher                 0.0124      0.009      1.400      0.162      -0.005       0.030\n",
      "Lower secondary                   0.0364      0.009      3.893      0.000       0.018       0.055\n",
      "Secondary / secondary special     0.0281      0.009      3.268      0.001       0.011       0.045\n",
      "Civil marriage                    0.0006      0.003      0.215      0.830      -0.005       0.006\n",
      "Married                          -0.0089      0.003     -3.545      0.000      -0.014      -0.004\n",
      "Separated                         0.0302      0.014      2.125      0.034       0.002       0.058\n",
      "Single / not married              0.0274      0.014      1.930      0.054      -0.000       0.055\n",
      "Widow                             0.0206      0.014      1.444      0.149      -0.007       0.049\n",
      "Co-op apartment                   0.0022      0.009      0.233      0.816      -0.016       0.021\n",
      "House / apartment                 0.0117      0.007      1.787      0.074      -0.001       0.025\n",
      "Municipal apartment               0.0207      0.007      2.999      0.003       0.007       0.034\n",
      "Office apartment                 -0.0014      0.008     -0.181      0.856      -0.017       0.014\n",
      "Rented apartment                  0.0201      0.007      2.721      0.007       0.006       0.035\n",
      "With parents                      0.0166      0.007      2.431      0.015       0.003       0.030\n",
      "Accountants                      -0.0038      0.003     -1.191      0.233      -0.010       0.002\n",
      "Cleaning staff                    0.0064      0.004      1.444      0.149      -0.002       0.015\n",
      "Cooking staff                     0.0060      0.004      1.507      0.132      -0.002       0.014\n",
      "Core staff                       -0.0042      0.002     -1.755      0.079      -0.009       0.000\n",
      "Drivers                           0.0103      0.003      3.840      0.000       0.005       0.016\n",
      "HR staff                          0.0038      0.012      0.328      0.743      -0.019       0.027\n",
      "High skill tech staff            -0.0043      0.003     -1.451      0.147      -0.010       0.002\n",
      "IT staff                         -0.0094      0.012     -0.764      0.445      -0.033       0.015\n",
      "Laborers                          0.0080      0.002      4.177      0.000       0.004       0.012\n",
      "Low-skill Laborers                0.0404      0.007      6.064      0.000       0.027       0.053\n",
      "Managers                          0.0007      0.002      0.312      0.755      -0.004       0.005\n",
      "Medicine staff                   -0.0017      0.004     -0.418      0.676      -0.009       0.006\n",
      "Private service staff            -0.0075      0.006     -1.248      0.212      -0.019       0.004\n",
      "Realty agents                    -0.0026      0.011     -0.238      0.812      -0.024       0.019\n",
      "Sales staff                       0.0014      0.002      0.618      0.536      -0.003       0.006\n",
      "Secretaries                       0.0033      0.008      0.417      0.677      -0.012       0.019\n",
      "Security staff                    0.0086      0.004      2.013      0.044       0.000       0.017\n",
      "Waiters/barmen staff              0.0059      0.008      0.736      0.462      -0.010       0.022\n",
      "FRIDAY                            0.0126      0.006      2.280      0.023       0.002       0.023\n",
      "MONDAY                            0.0083      0.006      1.511      0.131      -0.002       0.019\n",
      "SATURDAY                          0.0079      0.006      1.427      0.153      -0.003       0.019\n",
      "SUNDAY                            0.0069      0.006      1.207      0.227      -0.004       0.018\n",
      "THURSDAY                          0.0107      0.006      1.939      0.053      -0.000       0.021\n",
      "TUESDAY                           0.0115      0.006      2.082      0.037       0.001       0.022\n",
      "WEDNESDAY                         0.0120      0.006      2.182      0.029       0.001       0.023\n",
      "Advertising                       0.0428      0.014      3.126      0.002       0.016       0.070\n",
      "Agriculture                       0.0240      0.007      3.487      0.000       0.011       0.038\n",
      "Bank                              0.0091      0.007      1.374      0.170      -0.004       0.022\n",
      "Business Entity Type 1            0.0262      0.005      5.061      0.000       0.016       0.036\n",
      "Business Entity Type 2            0.0271      0.005      5.774      0.000       0.018       0.036\n",
      "Business Entity Type 3            0.0308      0.004      7.901      0.000       0.023       0.038\n",
      "Cleaning                          0.0193      0.017      1.101      0.271      -0.015       0.054\n",
      "Construction                      0.0424      0.005      8.399      0.000       0.033       0.052\n",
      "Culture                           0.0227      0.015      1.564      0.118      -0.006       0.051\n",
      "Electricity                       0.0154      0.010      1.608      0.108      -0.003       0.034\n",
      "Emergency                         0.0189      0.012      1.576      0.115      -0.005       0.042\n",
      "Government                        0.0224      0.005      4.792      0.000       0.013       0.032\n",
      "Hotel                             0.0148      0.010      1.540      0.124      -0.004       0.034\n",
      "Housing                           0.0249      0.006      3.952      0.000       0.013       0.037\n",
      "Industry: type 1                  0.0411      0.009      4.429      0.000       0.023       0.059\n",
      "Industry: type 10                 0.0224      0.026      0.862      0.389      -0.029       0.073\n",
      "Industry: type 11                 0.0251      0.007      3.847      0.000       0.012       0.038\n",
      "Industry: type 12                -0.0048      0.015     -0.330      0.741      -0.034       0.024\n",
      "Industry: type 13                -0.0086      0.038     -0.226      0.821      -0.083       0.066\n",
      "Industry: type 2                  0.0052      0.013      0.399      0.690      -0.020       0.031\n",
      "Industry: type 3                  0.0352      0.006      5.756      0.000       0.023       0.047\n",
      "Industry: type 4                  0.0257      0.010      2.574      0.010       0.006       0.045\n",
      "Industry: type 5                  0.0083      0.012      0.715      0.475      -0.015       0.031\n",
      "Industry: type 6                  0.0179      0.026      0.679      0.497      -0.034       0.070\n",
      "Industry: type 7                  0.0214      0.008      2.532      0.011       0.005       0.038\n",
      "Industry: type 8                 -0.0021      0.060     -0.035      0.972      -0.120       0.116\n",
      "Industry: type 9                  0.0086      0.006      1.424      0.154      -0.003       0.020\n",
      "Insurance                         0.0225      0.012      1.883      0.060      -0.001       0.046\n",
      "Kindergarten                      0.0228      0.005      4.447      0.000       0.013       0.033\n",
      "Legal Services                    0.0512      0.016      3.204      0.001       0.020       0.083\n",
      "Medicine                          0.0245      0.005      4.844      0.000       0.015       0.034\n",
      "Military                          0.0008      0.007      0.126      0.900      -0.012       0.014\n",
      "Mobile                            0.0308      0.016      1.954      0.051   -9.39e-05       0.062\n",
      "Other                             0.0257      0.004      5.887      0.000       0.017       0.034\n",
      "Police                            0.0070      0.007      1.016      0.310      -0.007       0.021\n",
      "Postal                            0.0316      0.007      4.440      0.000       0.018       0.046\n",
      "Realtor                           0.0686      0.015      4.672      0.000       0.040       0.097\n",
      "Religion                          0.0329      0.030      1.104      0.270      -0.026       0.091\n",
      "Restaurant                        0.0426      0.008      5.510      0.000       0.027       0.058\n",
      "School                            0.0203      0.005      4.130      0.000       0.011       0.030\n",
      "Security                          0.0219      0.007      3.233      0.001       0.009       0.035\n",
      "Security Ministries               0.0055      0.007      0.759      0.448      -0.009       0.020\n",
      "Self-employed                     0.0368      0.004      9.091      0.000       0.029       0.045\n",
      "Services                          0.0228      0.008      2.757      0.006       0.007       0.039\n",
      "Telecom                           0.0295      0.012      2.444      0.015       0.006       0.053\n",
      "Trade: type 1                     0.0118      0.015      0.778      0.437      -0.018       0.042\n",
      "Trade: type 2                    -0.0033      0.008     -0.433      0.665      -0.018       0.012\n",
      "Trade: type 3                     0.0279      0.006      4.646      0.000       0.016       0.040\n",
      "Trade: type 4                    -0.0223      0.035     -0.641      0.522      -0.091       0.046\n",
      "Trade: type 5                     0.0039      0.040      0.097      0.923      -0.074       0.082\n",
      "Trade: type 6                     0.0093      0.011      0.813      0.416      -0.013       0.032\n",
      "Trade: type 7                     0.0306      0.005      6.159      0.000       0.021       0.040\n",
      "Transport: type 1                -0.0069      0.019     -0.356      0.722      -0.045       0.031\n",
      "Transport: type 2                 0.0215      0.007      3.114      0.002       0.008       0.035\n",
      "Transport: type 3                 0.0736      0.009      8.077      0.000       0.056       0.091\n",
      "Transport: type 4                 0.0280      0.005      5.249      0.000       0.018       0.038\n",
      "University                        0.0240      0.008      2.851      0.004       0.007       0.040\n",
      "XNA                              -1.1623      0.157     -7.380      0.000      -1.471      -0.854\n",
      "avg_ex_score                     -0.3755      0.004    -94.949      0.000      -0.383      -0.368\n",
      "const                             0.0699      0.038      1.855      0.064      -0.004       0.144\n",
      "==============================================================================\n",
      "Omnibus:                   151588.509   Durbin-Watson:                   2.002\n",
      "Prob(Omnibus):                  0.000   Jarque-Bera (JB):           919218.658\n",
      "Skew:                           2.875   Prob(JB):                         0.00\n",
      "Kurtosis:                      10.088   Cond. No.                     1.20e+16\n",
      "==============================================================================\n",
      "\n",
      "Notes:\n",
      "[1] Standard Errors assume that the covariance matrix of the errors is correctly specified.\n",
      "[2] The smallest eigenvalue is 1.83e-15. This might indicate that there are\n",
      "strong multicollinearity problems or that the design matrix is singular.\n"
     ]
    }
   ],
   "source": [
    "# linear model \n",
    "x = sm.add_constant(Xtrain, prepend=False)\n",
    "mod = sm.OLS(ytrain, x.astype(float))\n",
    "res = mod.fit()\n",
    "print(res.summary())"
   ]
  },
  {
   "cell_type": "code",
   "execution_count": 10,
   "metadata": {},
   "outputs": [
    {
     "data": {
      "text/plain": [
       "XGBClassifier(base_score=None, booster=None, callbacks=None,\n",
       "              colsample_bylevel=None, colsample_bynode=None,\n",
       "              colsample_bytree=None, early_stopping_rounds=None,\n",
       "              enable_categorical=False, eval_metric=None, feature_types=None,\n",
       "              gamma=None, gpu_id=None, grow_policy=None, importance_type=None,\n",
       "              interaction_constraints=None, learning_rate=None, max_bin=None,\n",
       "              max_cat_threshold=None, max_cat_to_onehot=None,\n",
       "              max_delta_step=None, max_depth=None, max_leaves=None,\n",
       "              min_child_weight=None, missing=nan, monotone_constraints=None,\n",
       "              n_estimators=100, n_jobs=None, num_parallel_tree=None,\n",
       "              predictor=None, random_state=None, ...)"
      ]
     },
     "execution_count": 10,
     "metadata": {},
     "output_type": "execute_result"
    }
   ],
   "source": [
    "X = Xtrain\n",
    "y = ytrain\n",
    "seed = 100\n",
    "test_size = 0.25\n",
    "\n",
    "X_train, X_test, y_train, y_test = train_test_split(X, y, test_size=test_size, random_state=seed)\n",
    "model = XGBClassifier()\n",
    "model.fit(X_train, y_train)"
   ]
  },
  {
   "cell_type": "code",
   "execution_count": 11,
   "metadata": {},
   "outputs": [],
   "source": [
    "y_pred = model.predict(X_test)"
   ]
  },
  {
   "cell_type": "code",
   "execution_count": 12,
   "metadata": {},
   "outputs": [
    {
     "name": "stdout",
     "output_type": "stream",
     "text": [
      "Accuracy: 92.30%\n"
     ]
    }
   ],
   "source": [
    "accuracy = accuracy_score(y_test, y_pred)\n",
    "print(\"Accuracy: %.2f%%\" % (accuracy * 100.0))"
   ]
  },
  {
   "cell_type": "code",
   "execution_count": 13,
   "metadata": {},
   "outputs": [
    {
     "data": {
      "text/html": [
       "<div>\n",
       "<style scoped>\n",
       "    .dataframe tbody tr th:only-of-type {\n",
       "        vertical-align: middle;\n",
       "    }\n",
       "\n",
       "    .dataframe tbody tr th {\n",
       "        vertical-align: top;\n",
       "    }\n",
       "\n",
       "    .dataframe thead th {\n",
       "        text-align: right;\n",
       "    }\n",
       "</style>\n",
       "<table border=\"1\" class=\"dataframe\">\n",
       "  <thead>\n",
       "    <tr style=\"text-align: right;\">\n",
       "      <th></th>\n",
       "      <th>Feature</th>\n",
       "      <th>Importance</th>\n",
       "    </tr>\n",
       "  </thead>\n",
       "  <tbody>\n",
       "    <tr>\n",
       "      <th>0</th>\n",
       "      <td>avg_ex_score</td>\n",
       "      <td>0.052305</td>\n",
       "    </tr>\n",
       "    <tr>\n",
       "      <th>1</th>\n",
       "      <td>NAME_CONTRACT_TYPE</td>\n",
       "      <td>0.016993</td>\n",
       "    </tr>\n",
       "    <tr>\n",
       "      <th>2</th>\n",
       "      <td>State servant</td>\n",
       "      <td>0.014364</td>\n",
       "    </tr>\n",
       "    <tr>\n",
       "      <th>3</th>\n",
       "      <td>Higher education</td>\n",
       "      <td>0.013812</td>\n",
       "    </tr>\n",
       "    <tr>\n",
       "      <th>4</th>\n",
       "      <td>car_owned_less_10</td>\n",
       "      <td>0.013052</td>\n",
       "    </tr>\n",
       "    <tr>\n",
       "      <th>...</th>\n",
       "      <td>...</td>\n",
       "      <td>...</td>\n",
       "    </tr>\n",
       "    <tr>\n",
       "      <th>155</th>\n",
       "      <td>Services</td>\n",
       "      <td>0.000000</td>\n",
       "    </tr>\n",
       "    <tr>\n",
       "      <th>156</th>\n",
       "      <td>Telecom</td>\n",
       "      <td>0.000000</td>\n",
       "    </tr>\n",
       "    <tr>\n",
       "      <th>157</th>\n",
       "      <td>Trade: type 5</td>\n",
       "      <td>0.000000</td>\n",
       "    </tr>\n",
       "    <tr>\n",
       "      <th>158</th>\n",
       "      <td>University</td>\n",
       "      <td>0.000000</td>\n",
       "    </tr>\n",
       "    <tr>\n",
       "      <th>159</th>\n",
       "      <td>XNA</td>\n",
       "      <td>0.000000</td>\n",
       "    </tr>\n",
       "  </tbody>\n",
       "</table>\n",
       "<p>160 rows × 2 columns</p>\n",
       "</div>"
      ],
      "text/plain": [
       "                Feature  Importance\n",
       "0          avg_ex_score    0.052305\n",
       "1    NAME_CONTRACT_TYPE    0.016993\n",
       "2         State servant    0.014364\n",
       "3      Higher education    0.013812\n",
       "4     car_owned_less_10    0.013052\n",
       "..                  ...         ...\n",
       "155            Services    0.000000\n",
       "156             Telecom    0.000000\n",
       "157       Trade: type 5    0.000000\n",
       "158          University    0.000000\n",
       "159                 XNA    0.000000\n",
       "\n",
       "[160 rows x 2 columns]"
      ]
     },
     "execution_count": 13,
     "metadata": {},
     "output_type": "execute_result"
    }
   ],
   "source": [
    "feat_dict= {}\n",
    "for col, val in sorted(zip(X_train.columns, model.feature_importances_),key=lambda x:x[1],reverse=True):\n",
    "  feat_dict[col]=val\n",
    "feat_df = pd.DataFrame({'Feature':feat_dict.keys(),'Importance':feat_dict.values()})\n",
    "feat_df"
   ]
  },
  {
   "cell_type": "code",
   "execution_count": 14,
   "metadata": {},
   "outputs": [
    {
     "name": "stdout",
     "output_type": "stream",
     "text": [
      "              precision    recall  f1-score   support\n",
      "\n",
      "           0       0.92      1.00      0.96     61120\n",
      "           1       0.46      0.02      0.04      5082\n",
      "\n",
      "    accuracy                           0.92     66202\n",
      "   macro avg       0.69      0.51      0.50     66202\n",
      "weighted avg       0.89      0.92      0.89     66202\n",
      "\n"
     ]
    }
   ],
   "source": [
    "print(classification_report(y_test, y_pred))"
   ]
  },
  {
   "cell_type": "code",
   "execution_count": 15,
   "metadata": {},
   "outputs": [
    {
     "data": {
      "text/plain": [
       "0.041361158112427146"
      ]
     },
     "execution_count": 15,
     "metadata": {},
     "output_type": "execute_result"
    }
   ],
   "source": [
    "f1 = f1_score(y_test, y_pred)\n",
    "f1"
   ]
  },
  {
   "cell_type": "code",
   "execution_count": 16,
   "metadata": {},
   "outputs": [
    {
     "name": "stdout",
     "output_type": "stream",
     "text": [
      "              precision    recall  f1-score   support\n",
      "\n",
      "           0       0.96      0.79      0.86     61120\n",
      "           1       0.18      0.56      0.27      5082\n",
      "\n",
      "    accuracy                           0.77     66202\n",
      "   macro avg       0.57      0.67      0.57     66202\n",
      "weighted avg       0.90      0.77      0.82     66202\n",
      "\n",
      "0.27017744705208935\n"
     ]
    }
   ],
   "source": [
    "y_pred_adjusted = []\n",
    "for pred in model.predict_proba(X_test):\n",
    "    if pred[1] >= 0.1:\n",
    "        y_pred_adjusted.append(1)\n",
    "    else:\n",
    "        y_pred_adjusted.append(0)\n",
    "print(classification_report(y_test, y_pred_adjusted))\n",
    "f1_2 = f1_score(y_test, y_pred_adjusted)\n",
    "print(f1_2)"
   ]
  },
  {
   "cell_type": "code",
   "execution_count": null,
   "metadata": {},
   "outputs": [],
   "source": []
  },
  {
   "cell_type": "code",
   "execution_count": null,
   "metadata": {},
   "outputs": [],
   "source": []
  }
 ],
 "metadata": {
  "kernelspec": {
   "display_name": "Python 3",
   "language": "python",
   "name": "python3"
  },
  "language_info": {
   "codemirror_mode": {
    "name": "ipython",
    "version": 3
   },
   "file_extension": ".py",
   "mimetype": "text/x-python",
   "name": "python",
   "nbconvert_exporter": "python",
   "pygments_lexer": "ipython3",
   "version": "3.8.8"
  }
 },
 "nbformat": 4,
 "nbformat_minor": 2
}
