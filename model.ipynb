{
 "cells": [
  {
   "cell_type": "code",
   "execution_count": 14,
   "metadata": {},
   "outputs": [],
   "source": [
    "import numpy as np\n",
    "import seaborn as sns\n",
    "import pandas as pd\n",
    "import statsmodels.api as sm\n",
    "import matplotlib.pyplot as plt\n",
    "\n",
    "from xgboost import XGBClassifier\n",
    "from sklearn.model_selection import train_test_split\n",
    "from sklearn.metrics import accuracy_score\n",
    "from sklearn.tree import DecisionTreeClassifier\n",
    "from sklearn import tree\n",
    "from xgboost import plot_importance\n",
    "\n",
    "from sklearn.metrics import f1_score\n",
    "from sklearn.model_selection import GridSearchCV\n",
    "from sklearn.metrics import confusion_matrix\n",
    "from sklearn.metrics import classification_report"
   ]
  },
  {
   "cell_type": "code",
   "execution_count": 2,
   "metadata": {},
   "outputs": [],
   "source": [
    "df = pd.read_csv(\"cleaned_data.csv\", index_col=0)\n",
    "\n",
    "df = df[df[\"CODE_GENDER\"] != \"XNA\"] # filter out gender = XNA bc only 4 entries\n",
    "categorical = [\"NAME_CONTRACT_TYPE\", \"CODE_GENDER\", \"FLAG_OWN_CAR\", \"FLAG_OWN_REALTY\"] # change categorical variables to 0, 1 encoding\n",
    "for col in categorical:\n",
    "  fst = df[col].iloc[0]\n",
    "  df[col] = (df[col] == fst).astype(float)\n",
    "\n",
    "df = df.drop(columns=[\"OWN_CAR_AGE\"]) # drop this because we have the new categorical variables for this info"
   ]
  },
  {
   "cell_type": "code",
   "execution_count": 3,
   "metadata": {},
   "outputs": [],
   "source": [
    "# drop entries with a nan\n",
    "df = df.dropna(axis=0)"
   ]
  },
  {
   "cell_type": "code",
   "execution_count": 4,
   "metadata": {},
   "outputs": [
    {
     "name": "stdout",
     "output_type": "stream",
     "text": [
      "FLAG_MOBIL [1]\n",
      "Unknown [0]\n"
     ]
    }
   ],
   "source": [
    "# figure out which columns only have one value\n",
    "for i in df.columns:\n",
    "    if len(pd.unique(df[i])) <= 1:\n",
    "        print(i, pd.unique(df[i]))"
   ]
  },
  {
   "cell_type": "code",
   "execution_count": 5,
   "metadata": {},
   "outputs": [],
   "source": [
    "df = df.drop(columns=[\"FLAG_MOBIL\", \"Unknown\"]) #these columns now only have one value so they are useless for predicting --> remove them"
   ]
  },
  {
   "cell_type": "code",
   "execution_count": 6,
   "metadata": {},
   "outputs": [
    {
     "name": "stderr",
     "output_type": "stream",
     "text": [
      "c:\\ProgramData\\Anaconda3\\lib\\site-packages\\statsmodels\\discrete\\discrete_model.py:1810: RuntimeWarning: overflow encountered in exp\n",
      "  return 1/(1+np.exp(-X))\n",
      "c:\\ProgramData\\Anaconda3\\lib\\site-packages\\statsmodels\\discrete\\discrete_model.py:1863: RuntimeWarning: divide by zero encountered in log\n",
      "  return np.sum(np.log(self.cdf(q*np.dot(X,params))))\n"
     ]
    },
    {
     "name": "stdout",
     "output_type": "stream",
     "text": [
      "Warning: Maximum number of iterations has been exceeded.\n",
      "         Current function value: inf\n",
      "         Iterations: 35\n"
     ]
    },
    {
     "ename": "LinAlgError",
     "evalue": "Singular matrix",
     "output_type": "error",
     "traceback": [
      "\u001b[1;31m---------------------------------------------------------------------------\u001b[0m",
      "\u001b[1;31mLinAlgError\u001b[0m                               Traceback (most recent call last)",
      "\u001b[1;32m<ipython-input-6-6d6b844cf4ea>\u001b[0m in \u001b[0;36m<module>\u001b[1;34m\u001b[0m\n\u001b[0;32m      3\u001b[0m \u001b[0mytrain\u001b[0m \u001b[1;33m=\u001b[0m \u001b[0mdf\u001b[0m\u001b[1;33m[\u001b[0m\u001b[1;34m\"TARGET\"\u001b[0m\u001b[1;33m]\u001b[0m\u001b[1;33m\u001b[0m\u001b[1;33m\u001b[0m\u001b[0m\n\u001b[0;32m      4\u001b[0m \u001b[1;33m\u001b[0m\u001b[0m\n\u001b[1;32m----> 5\u001b[1;33m \u001b[0mlog_reg\u001b[0m \u001b[1;33m=\u001b[0m \u001b[0msm\u001b[0m\u001b[1;33m.\u001b[0m\u001b[0mLogit\u001b[0m\u001b[1;33m(\u001b[0m\u001b[0mytrain\u001b[0m\u001b[1;33m,\u001b[0m \u001b[0mXtrain\u001b[0m\u001b[1;33m.\u001b[0m\u001b[0mastype\u001b[0m\u001b[1;33m(\u001b[0m\u001b[0mfloat\u001b[0m\u001b[1;33m)\u001b[0m\u001b[1;33m)\u001b[0m\u001b[1;33m.\u001b[0m\u001b[0mfit\u001b[0m\u001b[1;33m(\u001b[0m\u001b[1;33m)\u001b[0m\u001b[1;33m\u001b[0m\u001b[1;33m\u001b[0m\u001b[0m\n\u001b[0m\u001b[0;32m      6\u001b[0m \u001b[1;33m\u001b[0m\u001b[0m\n\u001b[0;32m      7\u001b[0m \u001b[0mprint\u001b[0m\u001b[1;33m(\u001b[0m\u001b[0mlog_reg\u001b[0m\u001b[1;33m.\u001b[0m\u001b[0msummary\u001b[0m\u001b[1;33m(\u001b[0m\u001b[1;33m)\u001b[0m\u001b[1;33m)\u001b[0m\u001b[1;33m\u001b[0m\u001b[1;33m\u001b[0m\u001b[0m\n",
      "\u001b[1;32mc:\\ProgramData\\Anaconda3\\lib\\site-packages\\statsmodels\\discrete\\discrete_model.py\u001b[0m in \u001b[0;36mfit\u001b[1;34m(self, start_params, method, maxiter, full_output, disp, callback, **kwargs)\u001b[0m\n\u001b[0;32m   1972\u001b[0m     def fit(self, start_params=None, method='newton', maxiter=35,\n\u001b[0;32m   1973\u001b[0m             full_output=1, disp=1, callback=None, **kwargs):\n\u001b[1;32m-> 1974\u001b[1;33m         bnryfit = super().fit(start_params=start_params,\n\u001b[0m\u001b[0;32m   1975\u001b[0m                               \u001b[0mmethod\u001b[0m\u001b[1;33m=\u001b[0m\u001b[0mmethod\u001b[0m\u001b[1;33m,\u001b[0m\u001b[1;33m\u001b[0m\u001b[1;33m\u001b[0m\u001b[0m\n\u001b[0;32m   1976\u001b[0m                               \u001b[0mmaxiter\u001b[0m\u001b[1;33m=\u001b[0m\u001b[0mmaxiter\u001b[0m\u001b[1;33m,\u001b[0m\u001b[1;33m\u001b[0m\u001b[1;33m\u001b[0m\u001b[0m\n",
      "\u001b[1;32mc:\\ProgramData\\Anaconda3\\lib\\site-packages\\statsmodels\\discrete\\discrete_model.py\u001b[0m in \u001b[0;36mfit\u001b[1;34m(self, start_params, method, maxiter, full_output, disp, callback, **kwargs)\u001b[0m\n\u001b[0;32m    225\u001b[0m             \u001b[1;32mpass\u001b[0m  \u001b[1;31m# TODO: make a function factory to have multiple call-backs\u001b[0m\u001b[1;33m\u001b[0m\u001b[1;33m\u001b[0m\u001b[0m\n\u001b[0;32m    226\u001b[0m \u001b[1;33m\u001b[0m\u001b[0m\n\u001b[1;32m--> 227\u001b[1;33m         mlefit = super().fit(start_params=start_params,\n\u001b[0m\u001b[0;32m    228\u001b[0m                              \u001b[0mmethod\u001b[0m\u001b[1;33m=\u001b[0m\u001b[0mmethod\u001b[0m\u001b[1;33m,\u001b[0m\u001b[1;33m\u001b[0m\u001b[1;33m\u001b[0m\u001b[0m\n\u001b[0;32m    229\u001b[0m                              \u001b[0mmaxiter\u001b[0m\u001b[1;33m=\u001b[0m\u001b[0mmaxiter\u001b[0m\u001b[1;33m,\u001b[0m\u001b[1;33m\u001b[0m\u001b[1;33m\u001b[0m\u001b[0m\n",
      "\u001b[1;32mc:\\ProgramData\\Anaconda3\\lib\\site-packages\\statsmodels\\base\\model.py\u001b[0m in \u001b[0;36mfit\u001b[1;34m(self, start_params, method, maxiter, full_output, disp, fargs, callback, retall, skip_hessian, **kwargs)\u001b[0m\n\u001b[0;32m    532\u001b[0m             \u001b[0mHinv\u001b[0m \u001b[1;33m=\u001b[0m \u001b[0mcov_params_func\u001b[0m\u001b[1;33m(\u001b[0m\u001b[0mself\u001b[0m\u001b[1;33m,\u001b[0m \u001b[0mxopt\u001b[0m\u001b[1;33m,\u001b[0m \u001b[0mretvals\u001b[0m\u001b[1;33m)\u001b[0m\u001b[1;33m\u001b[0m\u001b[1;33m\u001b[0m\u001b[0m\n\u001b[0;32m    533\u001b[0m         \u001b[1;32melif\u001b[0m \u001b[0mmethod\u001b[0m \u001b[1;33m==\u001b[0m \u001b[1;34m'newton'\u001b[0m \u001b[1;32mand\u001b[0m \u001b[0mfull_output\u001b[0m\u001b[1;33m:\u001b[0m\u001b[1;33m\u001b[0m\u001b[1;33m\u001b[0m\u001b[0m\n\u001b[1;32m--> 534\u001b[1;33m             \u001b[0mHinv\u001b[0m \u001b[1;33m=\u001b[0m \u001b[0mnp\u001b[0m\u001b[1;33m.\u001b[0m\u001b[0mlinalg\u001b[0m\u001b[1;33m.\u001b[0m\u001b[0minv\u001b[0m\u001b[1;33m(\u001b[0m\u001b[1;33m-\u001b[0m\u001b[0mretvals\u001b[0m\u001b[1;33m[\u001b[0m\u001b[1;34m'Hessian'\u001b[0m\u001b[1;33m]\u001b[0m\u001b[1;33m)\u001b[0m \u001b[1;33m/\u001b[0m \u001b[0mnobs\u001b[0m\u001b[1;33m\u001b[0m\u001b[1;33m\u001b[0m\u001b[0m\n\u001b[0m\u001b[0;32m    535\u001b[0m         \u001b[1;32melif\u001b[0m \u001b[1;32mnot\u001b[0m \u001b[0mskip_hessian\u001b[0m\u001b[1;33m:\u001b[0m\u001b[1;33m\u001b[0m\u001b[1;33m\u001b[0m\u001b[0m\n\u001b[0;32m    536\u001b[0m             \u001b[0mH\u001b[0m \u001b[1;33m=\u001b[0m \u001b[1;33m-\u001b[0m\u001b[1;36m1\u001b[0m \u001b[1;33m*\u001b[0m \u001b[0mself\u001b[0m\u001b[1;33m.\u001b[0m\u001b[0mhessian\u001b[0m\u001b[1;33m(\u001b[0m\u001b[0mxopt\u001b[0m\u001b[1;33m)\u001b[0m\u001b[1;33m\u001b[0m\u001b[1;33m\u001b[0m\u001b[0m\n",
      "\u001b[1;32m<__array_function__ internals>\u001b[0m in \u001b[0;36minv\u001b[1;34m(*args, **kwargs)\u001b[0m\n",
      "\u001b[1;32mc:\\ProgramData\\Anaconda3\\lib\\site-packages\\numpy\\linalg\\linalg.py\u001b[0m in \u001b[0;36minv\u001b[1;34m(a)\u001b[0m\n\u001b[0;32m    543\u001b[0m     \u001b[0msignature\u001b[0m \u001b[1;33m=\u001b[0m \u001b[1;34m'D->D'\u001b[0m \u001b[1;32mif\u001b[0m \u001b[0misComplexType\u001b[0m\u001b[1;33m(\u001b[0m\u001b[0mt\u001b[0m\u001b[1;33m)\u001b[0m \u001b[1;32melse\u001b[0m \u001b[1;34m'd->d'\u001b[0m\u001b[1;33m\u001b[0m\u001b[1;33m\u001b[0m\u001b[0m\n\u001b[0;32m    544\u001b[0m     \u001b[0mextobj\u001b[0m \u001b[1;33m=\u001b[0m \u001b[0mget_linalg_error_extobj\u001b[0m\u001b[1;33m(\u001b[0m\u001b[0m_raise_linalgerror_singular\u001b[0m\u001b[1;33m)\u001b[0m\u001b[1;33m\u001b[0m\u001b[1;33m\u001b[0m\u001b[0m\n\u001b[1;32m--> 545\u001b[1;33m     \u001b[0mainv\u001b[0m \u001b[1;33m=\u001b[0m \u001b[0m_umath_linalg\u001b[0m\u001b[1;33m.\u001b[0m\u001b[0minv\u001b[0m\u001b[1;33m(\u001b[0m\u001b[0ma\u001b[0m\u001b[1;33m,\u001b[0m \u001b[0msignature\u001b[0m\u001b[1;33m=\u001b[0m\u001b[0msignature\u001b[0m\u001b[1;33m,\u001b[0m \u001b[0mextobj\u001b[0m\u001b[1;33m=\u001b[0m\u001b[0mextobj\u001b[0m\u001b[1;33m)\u001b[0m\u001b[1;33m\u001b[0m\u001b[1;33m\u001b[0m\u001b[0m\n\u001b[0m\u001b[0;32m    546\u001b[0m     \u001b[1;32mreturn\u001b[0m \u001b[0mwrap\u001b[0m\u001b[1;33m(\u001b[0m\u001b[0mainv\u001b[0m\u001b[1;33m.\u001b[0m\u001b[0mastype\u001b[0m\u001b[1;33m(\u001b[0m\u001b[0mresult_t\u001b[0m\u001b[1;33m,\u001b[0m \u001b[0mcopy\u001b[0m\u001b[1;33m=\u001b[0m\u001b[1;32mFalse\u001b[0m\u001b[1;33m)\u001b[0m\u001b[1;33m)\u001b[0m\u001b[1;33m\u001b[0m\u001b[1;33m\u001b[0m\u001b[0m\n\u001b[0;32m    547\u001b[0m \u001b[1;33m\u001b[0m\u001b[0m\n",
      "\u001b[1;32mc:\\ProgramData\\Anaconda3\\lib\\site-packages\\numpy\\linalg\\linalg.py\u001b[0m in \u001b[0;36m_raise_linalgerror_singular\u001b[1;34m(err, flag)\u001b[0m\n\u001b[0;32m     86\u001b[0m \u001b[1;33m\u001b[0m\u001b[0m\n\u001b[0;32m     87\u001b[0m \u001b[1;32mdef\u001b[0m \u001b[0m_raise_linalgerror_singular\u001b[0m\u001b[1;33m(\u001b[0m\u001b[0merr\u001b[0m\u001b[1;33m,\u001b[0m \u001b[0mflag\u001b[0m\u001b[1;33m)\u001b[0m\u001b[1;33m:\u001b[0m\u001b[1;33m\u001b[0m\u001b[1;33m\u001b[0m\u001b[0m\n\u001b[1;32m---> 88\u001b[1;33m     \u001b[1;32mraise\u001b[0m \u001b[0mLinAlgError\u001b[0m\u001b[1;33m(\u001b[0m\u001b[1;34m\"Singular matrix\"\u001b[0m\u001b[1;33m)\u001b[0m\u001b[1;33m\u001b[0m\u001b[1;33m\u001b[0m\u001b[0m\n\u001b[0m\u001b[0;32m     89\u001b[0m \u001b[1;33m\u001b[0m\u001b[0m\n\u001b[0;32m     90\u001b[0m \u001b[1;32mdef\u001b[0m \u001b[0m_raise_linalgerror_nonposdef\u001b[0m\u001b[1;33m(\u001b[0m\u001b[0merr\u001b[0m\u001b[1;33m,\u001b[0m \u001b[0mflag\u001b[0m\u001b[1;33m)\u001b[0m\u001b[1;33m:\u001b[0m\u001b[1;33m\u001b[0m\u001b[1;33m\u001b[0m\u001b[0m\n",
      "\u001b[1;31mLinAlgError\u001b[0m: Singular matrix"
     ]
    }
   ],
   "source": [
    "# logistic regression\n",
    "Xtrain = df.drop(columns=[\"TARGET\", \"SK_ID_CURR\"], axis=1)\n",
    "ytrain = df[\"TARGET\"]\n",
    "\n",
    "log_reg = sm.Logit(ytrain, Xtrain.astype(float)).fit()\n",
    "\n",
    "print(log_reg.summary())"
   ]
  },
  {
   "cell_type": "code",
   "execution_count": 7,
   "metadata": {},
   "outputs": [
    {
     "name": "stdout",
     "output_type": "stream",
     "text": [
      "                            OLS Regression Results                            \n",
      "==============================================================================\n",
      "Dep. Variable:                 TARGET   R-squared:                       0.030\n",
      "Model:                            OLS   Adj. R-squared:                  0.029\n",
      "Method:                 Least Squares   F-statistic:                     54.32\n",
      "Date:                Thu, 27 Apr 2023   Prob (F-statistic):               0.00\n",
      "Time:                        23:34:08   Log-Likelihood:                -22180.\n",
      "No. Observations:              264894   AIC:                         4.466e+04\n",
      "Df Residuals:                  264742   BIC:                         4.626e+04\n",
      "Df Model:                         151                                         \n",
      "Covariance Type:            nonrobust                                         \n",
      "=================================================================================================\n",
      "                                    coef    std err          t      P>|t|      [0.025      0.975]\n",
      "-------------------------------------------------------------------------------------------------\n",
      "NAME_CONTRACT_TYPE                0.0203      0.002     10.434      0.000       0.016       0.024\n",
      "CODE_GENDER                       0.0235      0.001     17.230      0.000       0.021       0.026\n",
      "FLAG_OWN_CAR                      0.0899      0.118      0.762      0.446      -0.141       0.321\n",
      "FLAG_OWN_REALTY                   0.0016      0.001      1.362      0.173      -0.001       0.004\n",
      "CNT_CHILDREN                     -0.0073      0.017     -0.433      0.665      -0.040       0.026\n",
      "AMT_INCOME_TOTAL               8.729e-09   2.12e-09      4.125      0.000    4.58e-09    1.29e-08\n",
      "AMT_CREDIT                     1.791e-07   8.22e-09     21.793      0.000    1.63e-07    1.95e-07\n",
      "AMT_ANNUITY                    5.849e-07   5.92e-08      9.886      0.000    4.69e-07    7.01e-07\n",
      "AMT_GOODS_PRICE               -2.181e-07   9.06e-09    -24.078      0.000   -2.36e-07      -2e-07\n",
      "REGION_POPULATION_RELATIVE        0.1361      0.045      3.045      0.002       0.049       0.224\n",
      "DAYS_BIRTH                     3.079e-06   1.88e-07     16.419      0.000    2.71e-06    3.45e-06\n",
      "DAYS_EMPLOYED                  4.274e-06    2.7e-07     15.833      0.000    3.75e-06     4.8e-06\n",
      "DAYS_REGISTRATION              9.599e-07   1.57e-07      6.119      0.000    6.52e-07    1.27e-06\n",
      "DAYS_ID_PUBLISH                 5.27e-06   3.65e-07     14.449      0.000    4.55e-06    5.98e-06\n",
      "FLAG_EMP_PHONE                   -0.0690      0.089     -0.776      0.438      -0.243       0.105\n",
      "FLAG_WORK_PHONE                   0.0170      0.001     11.848      0.000       0.014       0.020\n",
      "FLAG_CONT_MOBILE                 -0.0195      0.012     -1.684      0.092      -0.042       0.003\n",
      "FLAG_PHONE                       -0.0045      0.001     -3.748      0.000      -0.007      -0.002\n",
      "FLAG_EMAIL                       -0.0011      0.002     -0.497      0.619      -0.005       0.003\n",
      "CNT_FAM_MEMBERS                   0.0071      0.017      0.425      0.671      -0.026       0.040\n",
      "REGION_RATING_CLIENT              0.0004      0.003      0.111      0.912      -0.006       0.007\n",
      "REGION_RATING_CLIENT_W_CITY       0.0264      0.003      7.889      0.000       0.020       0.033\n",
      "HOUR_APPR_PROCESS_START          -0.0005      0.000     -3.028      0.002      -0.001      -0.000\n",
      "REG_REGION_NOT_LIVE_REGION       -0.0208      0.007     -3.130      0.002      -0.034      -0.008\n",
      "REG_REGION_NOT_WORK_REGION        0.0085      0.007      1.194      0.232      -0.005       0.023\n",
      "LIVE_REGION_NOT_WORK_REGION      -0.0116      0.007     -1.623      0.105      -0.026       0.002\n",
      "REG_CITY_NOT_LIVE_CITY            0.0203      0.003      6.688      0.000       0.014       0.026\n",
      "REG_CITY_NOT_WORK_CITY            0.0015      0.003      0.431      0.666      -0.005       0.008\n",
      "LIVE_CITY_NOT_WORK_CITY           0.0050      0.003      1.485      0.138      -0.002       0.011\n",
      "OBS_30_CNT_SOCIAL_CIRCLE          0.0022      0.004      0.576      0.564      -0.005       0.010\n",
      "DEF_30_CNT_SOCIAL_CIRCLE          0.0120      0.002      5.212      0.000       0.007       0.017\n",
      "OBS_60_CNT_SOCIAL_CIRCLE         -0.0024      0.004     -0.611      0.541      -0.010       0.005\n",
      "DEF_60_CNT_SOCIAL_CIRCLE          0.0055      0.003      1.998      0.046       0.000       0.011\n",
      "DAYS_LAST_PHONE_CHANGE         1.187e-05   6.33e-07     18.743      0.000    1.06e-05    1.31e-05\n",
      "AMT_REQ_CREDIT_BUREAU_HOUR       -0.0002      0.006     -0.035      0.972      -0.013       0.012\n",
      "AMT_REQ_CREDIT_BUREAU_DAY         0.0080      0.005      1.655      0.098      -0.001       0.018\n",
      "AMT_REQ_CREDIT_BUREAU_WEEK       -0.0009      0.003     -0.369      0.712      -0.006       0.004\n",
      "AMT_REQ_CREDIT_BUREAU_MON        -0.0006      0.001     -0.999      0.318      -0.002       0.001\n",
      "AMT_REQ_CREDIT_BUREAU_QRT        -0.0011      0.001     -1.625      0.104      -0.002       0.000\n",
      "AMT_REQ_CREDIT_BUREAU_YEAR        0.0030      0.000     10.723      0.000       0.002       0.004\n",
      "car_owned_less_10                 0.0058      0.023      0.249      0.803      -0.040       0.051\n",
      "car_owned_10_to_20                0.0166      0.023      0.716      0.474      -0.029       0.062\n",
      "car_owned_20_to_30                0.0233      0.023      1.004      0.315      -0.022       0.069\n",
      "car_owned_30                      0.0276      0.023      1.183      0.237      -0.018       0.073\n",
      "no_car                           -0.0562      0.096     -0.583      0.560      -0.245       0.133\n",
      "Children                          0.0329      0.010      3.312      0.001       0.013       0.052\n",
      "Family                            0.0286      0.009      3.286      0.001       0.012       0.046\n",
      "Group of people                   0.0182      0.020      0.927      0.354      -0.020       0.057\n",
      "Other_A                           0.0310      0.013      2.365      0.018       0.005       0.057\n",
      "Other_B                           0.0344      0.011      3.127      0.002       0.013       0.056\n",
      "Spouse, partner                   0.0249      0.009      2.762      0.006       0.007       0.042\n",
      "Unaccompanied                     0.0322      0.009      3.746      0.000       0.015       0.049\n",
      "Businessman                       0.0184      0.125      0.147      0.883      -0.227       0.264\n",
      "Commercial associate              0.0159      0.048      0.329      0.742      -0.079       0.111\n",
      "Maternity leave                   0.0017      0.235      0.007      0.994      -0.458       0.462\n",
      "Pensioner                         0.0053      0.083      0.063      0.949      -0.157       0.167\n",
      "State servant                     0.0187      0.048      0.387      0.699      -0.076       0.113\n",
      "Student                          -0.0624      0.076     -0.816      0.414      -0.212       0.087\n",
      "Unemployed                       -0.0065      0.182     -0.035      0.972      -0.364       0.351\n",
      "Working                           0.0259      0.048      0.537      0.591      -0.069       0.121\n",
      "Academic degree                  -0.0329      0.019     -1.686      0.092      -0.071       0.005\n",
      "Higher education                 -0.0032      0.009     -0.361      0.718      -0.020       0.014\n",
      "Incomplete higher                 0.0008      0.009      0.089      0.929      -0.017       0.018\n",
      "Lower secondary                   0.0343      0.010      3.610      0.000       0.016       0.053\n",
      "Secondary / secondary special     0.0179      0.009      2.051      0.040       0.001       0.035\n",
      "Civil marriage                    0.0044      0.003      1.633      0.102      -0.001       0.010\n",
      "Married                          -0.0071      0.003     -2.779      0.005      -0.012      -0.002\n",
      "Separated                         0.0092      0.014      0.639      0.523      -0.019       0.038\n",
      "Single / not married              0.0078      0.014      0.544      0.587      -0.020       0.036\n",
      "Widow                             0.0026      0.014      0.179      0.858      -0.026       0.031\n",
      "Co-op apartment                  -0.0080      0.010     -0.835      0.404      -0.027       0.011\n",
      "House / apartment                 0.0016      0.007      0.241      0.809      -0.011       0.015\n",
      "Municipal apartment               0.0118      0.007      1.682      0.093      -0.002       0.026\n",
      "Office apartment                 -0.0107      0.008     -1.324      0.186      -0.026       0.005\n",
      "Rented apartment                  0.0122      0.008      1.619      0.106      -0.003       0.027\n",
      "With parents                      0.0101      0.007      1.465      0.143      -0.003       0.024\n",
      "Accountants                      -0.0113      0.003     -3.527      0.000      -0.018      -0.005\n",
      "Cleaning staff                    0.0129      0.004      2.864      0.004       0.004       0.022\n",
      "Cooking staff                     0.0110      0.004      2.698      0.007       0.003       0.019\n",
      "Core staff                       -0.0067      0.002     -2.756      0.006      -0.012      -0.002\n",
      "Drivers                           0.0100      0.003      3.663      0.000       0.005       0.015\n",
      "HR staff                         -0.0003      0.012     -0.021      0.983      -0.023       0.023\n",
      "High skill tech staff            -0.0084      0.003     -2.795      0.005      -0.014      -0.003\n",
      "IT staff                         -0.0188      0.012     -1.503      0.133      -0.043       0.006\n",
      "Laborers                          0.0093      0.002      4.810      0.000       0.006       0.013\n",
      "Low-skill Laborers                0.0481      0.007      7.102      0.000       0.035       0.061\n",
      "Managers                         -0.0022      0.002     -0.914      0.361      -0.007       0.003\n",
      "Medicine staff                   -0.0023      0.004     -0.574      0.566      -0.010       0.006\n",
      "Private service staff            -0.0135      0.006     -2.205      0.027      -0.025      -0.002\n",
      "Realty agents                    -0.0056      0.011     -0.512      0.608      -0.027       0.016\n",
      "Sales staff                       0.0021      0.002      0.893      0.372      -0.002       0.007\n",
      "Secretaries                       0.0005      0.008      0.060      0.952      -0.015       0.016\n",
      "Security staff                    0.0124      0.004      2.856      0.004       0.004       0.021\n",
      "Waiters/barmen staff              0.0102      0.008      1.256      0.209      -0.006       0.026\n",
      "FRIDAY                            0.0048      0.006      0.857      0.392      -0.006       0.016\n",
      "MONDAY                            0.0011      0.006      0.197      0.844      -0.010       0.012\n",
      "SATURDAY                        8.51e-05      0.006      0.015      0.988      -0.011       0.011\n",
      "SUNDAY                           -0.0010      0.006     -0.176      0.860      -0.012       0.010\n",
      "THURSDAY                          0.0035      0.006      0.625      0.532      -0.007       0.014\n",
      "TUESDAY                           0.0043      0.006      0.774      0.439      -0.007       0.015\n",
      "WEDNESDAY                         0.0042      0.006      0.757      0.449      -0.007       0.015\n",
      "Advertising                       0.0481      0.014      3.450      0.001       0.021       0.075\n",
      "Agriculture                       0.0370      0.007      5.276      0.000       0.023       0.051\n",
      "Bank                              0.0179      0.007      2.658      0.008       0.005       0.031\n",
      "Business Entity Type 1            0.0334      0.005      6.329      0.000       0.023       0.044\n",
      "Business Entity Type 2            0.0357      0.005      7.478      0.000       0.026       0.045\n",
      "Business Entity Type 3            0.0369      0.004      9.316      0.000       0.029       0.045\n",
      "Cleaning                          0.0250      0.018      1.405      0.160      -0.010       0.060\n",
      "Construction                      0.0491      0.005      9.567      0.000       0.039       0.059\n",
      "Culture                           0.0238      0.015      1.609      0.108      -0.005       0.053\n",
      "Electricity                       0.0182      0.010      1.872      0.061      -0.001       0.037\n",
      "Emergency                         0.0232      0.012      1.899      0.058      -0.001       0.047\n",
      "Government                        0.0290      0.005      6.094      0.000       0.020       0.038\n",
      "Hotel                             0.0222      0.010      2.264      0.024       0.003       0.041\n",
      "Housing                           0.0308      0.006      4.809      0.000       0.018       0.043\n",
      "Industry: type 1                  0.0500      0.009      5.302      0.000       0.032       0.069\n",
      "Industry: type 10                 0.0274      0.026      1.035      0.301      -0.024       0.079\n",
      "Industry: type 11                 0.0327      0.007      4.945      0.000       0.020       0.046\n",
      "Industry: type 12                -0.0069      0.015     -0.465      0.642      -0.036       0.022\n",
      "Industry: type 13                 0.0125      0.039      0.323      0.747      -0.063       0.088\n",
      "Industry: type 2                  0.0157      0.013      1.180      0.238      -0.010       0.042\n",
      "Industry: type 3                  0.0442      0.006      7.117      0.000       0.032       0.056\n",
      "Industry: type 4                  0.0346      0.010      3.416      0.001       0.015       0.054\n",
      "Industry: type 5                  0.0165      0.012      1.397      0.162      -0.007       0.040\n",
      "Industry: type 6                  0.0228      0.027      0.851      0.395      -0.030       0.075\n",
      "Industry: type 7                  0.0312      0.009      3.629      0.000       0.014       0.048\n",
      "Industry: type 8                 -0.0018      0.061     -0.029      0.977      -0.122       0.118\n",
      "Industry: type 9                  0.0138      0.006      2.253      0.024       0.002       0.026\n",
      "Insurance                         0.0270      0.012      2.226      0.026       0.003       0.051\n",
      "Kindergarten                      0.0322      0.005      6.164      0.000       0.022       0.042\n",
      "Legal Services                    0.0570      0.016      3.503      0.000       0.025       0.089\n",
      "Medicine                          0.0316      0.005      6.143      0.000       0.022       0.042\n",
      "Military                          0.0072      0.007      1.062      0.288      -0.006       0.020\n",
      "Mobile                            0.0414      0.016      2.581      0.010       0.010       0.073\n",
      "Other                             0.0308      0.004      6.957      0.000       0.022       0.040\n",
      "Police                            0.0117      0.007      1.665      0.096      -0.002       0.025\n",
      "Postal                            0.0412      0.007      5.694      0.000       0.027       0.055\n",
      "Realtor                           0.0761      0.015      5.097      0.000       0.047       0.105\n",
      "Religion                          0.0335      0.030      1.104      0.270      -0.026       0.093\n",
      "Restaurant                        0.0528      0.008      6.716      0.000       0.037       0.068\n",
      "School                            0.0286      0.005      5.742      0.000       0.019       0.038\n",
      "Security                          0.0278      0.007      4.048      0.000       0.014       0.041\n",
      "Security Ministries               0.0100      0.007      1.370      0.171      -0.004       0.024\n",
      "Self-employed                     0.0417      0.004     10.132      0.000       0.034       0.050\n",
      "Services                          0.0242      0.008      2.874      0.004       0.008       0.041\n",
      "Telecom                           0.0351      0.012      2.863      0.004       0.011       0.059\n",
      "Trade: type 1                     0.0210      0.015      1.355      0.175      -0.009       0.051\n",
      "Trade: type 2                     0.0024      0.008      0.313      0.754      -0.013       0.018\n",
      "Trade: type 3                     0.0409      0.006      6.710      0.000       0.029       0.053\n",
      "Trade: type 4                    -0.0115      0.035     -0.324      0.746      -0.081       0.058\n",
      "Trade: type 5                     0.0070      0.041      0.172      0.863      -0.073       0.087\n",
      "Trade: type 6                     0.0106      0.012      0.909      0.363      -0.012       0.033\n",
      "Trade: type 7                     0.0366      0.005      7.264      0.000       0.027       0.047\n",
      "Transport: type 1                -0.0050      0.020     -0.254      0.799      -0.043       0.033\n",
      "Transport: type 2                 0.0257      0.007      3.662      0.000       0.012       0.039\n",
      "Transport: type 3                 0.0825      0.009      8.904      0.000       0.064       0.101\n",
      "Transport: type 4                 0.0336      0.005      6.199      0.000       0.023       0.044\n",
      "University                        0.0285      0.009      3.333      0.001       0.012       0.045\n",
      "XNA                              -1.5883      0.160     -9.923      0.000      -1.902      -1.275\n",
      "const                             0.0170      0.038      0.445      0.657      -0.058       0.092\n",
      "==============================================================================\n",
      "Omnibus:                   158847.437   Durbin-Watson:                   2.001\n",
      "Prob(Omnibus):                  0.000   Jarque-Bera (JB):          1031252.498\n",
      "Skew:                           3.023   Prob(JB):                         0.00\n",
      "Kurtosis:                      10.542   Cond. No.                     1.20e+16\n",
      "==============================================================================\n",
      "\n",
      "Notes:\n",
      "[1] Standard Errors assume that the covariance matrix of the errors is correctly specified.\n",
      "[2] The smallest eigenvalue is 1.83e-15. This might indicate that there are\n",
      "strong multicollinearity problems or that the design matrix is singular.\n"
     ]
    }
   ],
   "source": [
    "# linear model \n",
    "x = sm.add_constant(Xtrain, prepend=False)\n",
    "mod = sm.OLS(ytrain, x.astype(float))\n",
    "res = mod.fit()\n",
    "print(res.summary())"
   ]
  },
  {
   "cell_type": "code",
   "execution_count": 23,
   "metadata": {},
   "outputs": [
    {
     "data": {
      "text/plain": [
       "XGBClassifier(base_score=None, booster=None, callbacks=None,\n",
       "              colsample_bylevel=None, colsample_bynode=None,\n",
       "              colsample_bytree=None, early_stopping_rounds=None,\n",
       "              enable_categorical=False, eval_metric=None, feature_types=None,\n",
       "              gamma=None, gpu_id=None, grow_policy=None, importance_type=None,\n",
       "              interaction_constraints=None, learning_rate=None, max_bin=None,\n",
       "              max_cat_threshold=None, max_cat_to_onehot=None,\n",
       "              max_delta_step=None, max_depth=None, max_leaves=None,\n",
       "              min_child_weight=None, missing=nan, monotone_constraints=None,\n",
       "              n_estimators=100, n_jobs=None, num_parallel_tree=None,\n",
       "              predictor=None, random_state=None, ...)"
      ]
     },
     "execution_count": 23,
     "metadata": {},
     "output_type": "execute_result"
    }
   ],
   "source": [
    "X = Xtrain\n",
    "y = ytrain\n",
    "seed = 100\n",
    "test_size = 0.25\n",
    "\n",
    "X_train, X_test, y_train, y_test = train_test_split(X, y, test_size=test_size, random_state=seed)\n",
    "model = XGBClassifier()\n",
    "model.fit(X_train, y_train)"
   ]
  },
  {
   "cell_type": "code",
   "execution_count": 24,
   "metadata": {},
   "outputs": [],
   "source": [
    "y_pred = model.predict(X_test)"
   ]
  },
  {
   "cell_type": "code",
   "execution_count": 25,
   "metadata": {},
   "outputs": [
    {
     "name": "stdout",
     "output_type": "stream",
     "text": [
      "Accuracy: 92.36%\n"
     ]
    }
   ],
   "source": [
    "accuracy = accuracy_score(y_test, y_pred)\n",
    "print(\"Accuracy: %.2f%%\" % (accuracy * 100.0))"
   ]
  },
  {
   "cell_type": "code",
   "execution_count": 26,
   "metadata": {},
   "outputs": [
    {
     "data": {
      "text/html": [
       "<div>\n",
       "<style scoped>\n",
       "    .dataframe tbody tr th:only-of-type {\n",
       "        vertical-align: middle;\n",
       "    }\n",
       "\n",
       "    .dataframe tbody tr th {\n",
       "        vertical-align: top;\n",
       "    }\n",
       "\n",
       "    .dataframe thead th {\n",
       "        text-align: right;\n",
       "    }\n",
       "</style>\n",
       "<table border=\"1\" class=\"dataframe\">\n",
       "  <thead>\n",
       "    <tr style=\"text-align: right;\">\n",
       "      <th></th>\n",
       "      <th>Feature</th>\n",
       "      <th>Importance</th>\n",
       "    </tr>\n",
       "  </thead>\n",
       "  <tbody>\n",
       "    <tr>\n",
       "      <th>0</th>\n",
       "      <td>Higher education</td>\n",
       "      <td>0.046046</td>\n",
       "    </tr>\n",
       "    <tr>\n",
       "      <th>1</th>\n",
       "      <td>Secondary / secondary special</td>\n",
       "      <td>0.024406</td>\n",
       "    </tr>\n",
       "    <tr>\n",
       "      <th>2</th>\n",
       "      <td>Working</td>\n",
       "      <td>0.024198</td>\n",
       "    </tr>\n",
       "    <tr>\n",
       "      <th>3</th>\n",
       "      <td>REGION_RATING_CLIENT_W_CITY</td>\n",
       "      <td>0.020610</td>\n",
       "    </tr>\n",
       "    <tr>\n",
       "      <th>4</th>\n",
       "      <td>car_owned_less_10</td>\n",
       "      <td>0.020432</td>\n",
       "    </tr>\n",
       "    <tr>\n",
       "      <th>...</th>\n",
       "      <td>...</td>\n",
       "      <td>...</td>\n",
       "    </tr>\n",
       "    <tr>\n",
       "      <th>154</th>\n",
       "      <td>Trade: type 1</td>\n",
       "      <td>0.000000</td>\n",
       "    </tr>\n",
       "    <tr>\n",
       "      <th>155</th>\n",
       "      <td>Trade: type 4</td>\n",
       "      <td>0.000000</td>\n",
       "    </tr>\n",
       "    <tr>\n",
       "      <th>156</th>\n",
       "      <td>Trade: type 5</td>\n",
       "      <td>0.000000</td>\n",
       "    </tr>\n",
       "    <tr>\n",
       "      <th>157</th>\n",
       "      <td>Transport: type 1</td>\n",
       "      <td>0.000000</td>\n",
       "    </tr>\n",
       "    <tr>\n",
       "      <th>158</th>\n",
       "      <td>XNA</td>\n",
       "      <td>0.000000</td>\n",
       "    </tr>\n",
       "  </tbody>\n",
       "</table>\n",
       "<p>159 rows × 2 columns</p>\n",
       "</div>"
      ],
      "text/plain": [
       "                           Feature  Importance\n",
       "0                 Higher education    0.046046\n",
       "1    Secondary / secondary special    0.024406\n",
       "2                          Working    0.024198\n",
       "3      REGION_RATING_CLIENT_W_CITY    0.020610\n",
       "4                car_owned_less_10    0.020432\n",
       "..                             ...         ...\n",
       "154                  Trade: type 1    0.000000\n",
       "155                  Trade: type 4    0.000000\n",
       "156                  Trade: type 5    0.000000\n",
       "157              Transport: type 1    0.000000\n",
       "158                            XNA    0.000000\n",
       "\n",
       "[159 rows x 2 columns]"
      ]
     },
     "execution_count": 26,
     "metadata": {},
     "output_type": "execute_result"
    }
   ],
   "source": [
    "feat_dict= {}\n",
    "for col, val in sorted(zip(X_train.columns, model.feature_importances_),key=lambda x:x[1],reverse=True):\n",
    "  feat_dict[col]=val\n",
    "feat_df = pd.DataFrame({'Feature':feat_dict.keys(),'Importance':feat_dict.values()})\n",
    "feat_df"
   ]
  },
  {
   "cell_type": "code",
   "execution_count": 27,
   "metadata": {},
   "outputs": [
    {
     "name": "stdout",
     "output_type": "stream",
     "text": [
      "              precision    recall  f1-score   support\n",
      "\n",
      "           0       0.92      1.00      0.96     61171\n",
      "           1       0.42      0.00      0.01      5053\n",
      "\n",
      "    accuracy                           0.92     66224\n",
      "   macro avg       0.67      0.50      0.48     66224\n",
      "weighted avg       0.89      0.92      0.89     66224\n",
      "\n"
     ]
    }
   ],
   "source": [
    "print(classification_report(y_test, y_pred))"
   ]
  },
  {
   "cell_type": "code",
   "execution_count": 28,
   "metadata": {},
   "outputs": [
    {
     "data": {
      "text/plain": [
       "0.007841599686336012"
      ]
     },
     "execution_count": 28,
     "metadata": {},
     "output_type": "execute_result"
    }
   ],
   "source": [
    "f1 = f1_score(y_test, y_pred)\n",
    "f1"
   ]
  },
  {
   "cell_type": "code",
   "execution_count": 29,
   "metadata": {},
   "outputs": [
    {
     "name": "stdout",
     "output_type": "stream",
     "text": [
      "              precision    recall  f1-score   support\n",
      "\n",
      "           0       0.95      0.78      0.86     61171\n",
      "           1       0.15      0.47      0.23      5053\n",
      "\n",
      "    accuracy                           0.76     66224\n",
      "   macro avg       0.55      0.63      0.54     66224\n",
      "weighted avg       0.89      0.76      0.81     66224\n",
      "\n",
      "0.2298211116972807\n"
     ]
    }
   ],
   "source": [
    "y_pred_adjusted = []\n",
    "for pred in model.predict_proba(X_test):\n",
    "    if pred[1] >= 0.1:\n",
    "        y_pred_adjusted.append(1)\n",
    "    else:\n",
    "        y_pred_adjusted.append(0)\n",
    "print(classification_report(y_test, y_pred_adjusted))\n",
    "f1_2 = f1_score(y_test, y_pred_adjusted)\n",
    "print(f1_2)"
   ]
  },
  {
   "cell_type": "code",
   "execution_count": null,
   "metadata": {},
   "outputs": [],
   "source": []
  },
  {
   "cell_type": "code",
   "execution_count": null,
   "metadata": {},
   "outputs": [],
   "source": []
  }
 ],
 "metadata": {
  "kernelspec": {
   "display_name": "Python 3",
   "language": "python",
   "name": "python3"
  },
  "language_info": {
   "codemirror_mode": {
    "name": "ipython",
    "version": 3
   },
   "file_extension": ".py",
   "mimetype": "text/x-python",
   "name": "python",
   "nbconvert_exporter": "python",
   "pygments_lexer": "ipython3",
   "version": "3.8.8"
  }
 },
 "nbformat": 4,
 "nbformat_minor": 2
}
